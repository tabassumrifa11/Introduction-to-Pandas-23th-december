{
 "cells": [
  {
   "cell_type": "code",
   "execution_count": 1,
   "metadata": {},
   "outputs": [],
   "source": [
    "import pandas as pd"
   ]
  },
  {
   "cell_type": "code",
   "execution_count": 2,
   "metadata": {},
   "outputs": [],
   "source": [
    "myDataset = {\n",
    "    \"Cars\" : [\"Ferarri\", \"Toyota\", \"Lamborghini\"],\n",
    "    \"TopSpeed\" : [\"350 mph\", \"250mph\", \"300 mph\"],\n",
    "    \"Price\" : [\"10 koti\", \"30 lakh\", \"7 koti\"]\n",
    "}"
   ]
  },
  {
   "cell_type": "code",
   "execution_count": 4,
   "metadata": {},
   "outputs": [
    {
     "data": {
      "text/html": [
       "<div>\n",
       "<style scoped>\n",
       "    .dataframe tbody tr th:only-of-type {\n",
       "        vertical-align: middle;\n",
       "    }\n",
       "\n",
       "    .dataframe tbody tr th {\n",
       "        vertical-align: top;\n",
       "    }\n",
       "\n",
       "    .dataframe thead th {\n",
       "        text-align: right;\n",
       "    }\n",
       "</style>\n",
       "<table border=\"1\" class=\"dataframe\">\n",
       "  <thead>\n",
       "    <tr style=\"text-align: right;\">\n",
       "      <th></th>\n",
       "      <th>Cars</th>\n",
       "      <th>TopSpeed</th>\n",
       "      <th>Price</th>\n",
       "    </tr>\n",
       "  </thead>\n",
       "  <tbody>\n",
       "    <tr>\n",
       "      <th>Royal car</th>\n",
       "      <td>Ferarri</td>\n",
       "      <td>350 mph</td>\n",
       "      <td>10 koti</td>\n",
       "    </tr>\n",
       "    <tr>\n",
       "      <th>Family car</th>\n",
       "      <td>Toyota</td>\n",
       "      <td>250mph</td>\n",
       "      <td>30 lakh</td>\n",
       "    </tr>\n",
       "    <tr>\n",
       "      <th>Sports car</th>\n",
       "      <td>Lamborghini</td>\n",
       "      <td>300 mph</td>\n",
       "      <td>7 koti</td>\n",
       "    </tr>\n",
       "  </tbody>\n",
       "</table>\n",
       "</div>"
      ],
      "text/plain": [
       "                   Cars TopSpeed    Price\n",
       "Royal car       Ferarri  350 mph  10 koti\n",
       "Family car       Toyota   250mph  30 lakh\n",
       "Sports car  Lamborghini  300 mph   7 koti"
      ]
     },
     "execution_count": 4,
     "metadata": {},
     "output_type": "execute_result"
    }
   ],
   "source": [
    "df = pd.DataFrame(myDataset, index = [\"Royal car\", \"Family car\", \"Sports car\"])\n",
    "df"
   ]
  },
  {
   "cell_type": "code",
   "execution_count": 6,
   "metadata": {},
   "outputs": [
    {
     "data": {
      "text/plain": [
       "Cars        Ferarri\n",
       "TopSpeed    350 mph\n",
       "Price       10 koti\n",
       "Name: Royal car, dtype: object"
      ]
     },
     "execution_count": 6,
     "metadata": {},
     "output_type": "execute_result"
    }
   ],
   "source": [
    "df.loc[\"Royal car\"]"
   ]
  }
 ],
 "metadata": {
  "kernelspec": {
   "display_name": "Python 3",
   "language": "python",
   "name": "python3"
  },
  "language_info": {
   "codemirror_mode": {
    "name": "ipython",
    "version": 3
   },
   "file_extension": ".py",
   "mimetype": "text/x-python",
   "name": "python",
   "nbconvert_exporter": "python",
   "pygments_lexer": "ipython3",
   "version": "3.12.4"
  }
 },
 "nbformat": 4,
 "nbformat_minor": 2
}
